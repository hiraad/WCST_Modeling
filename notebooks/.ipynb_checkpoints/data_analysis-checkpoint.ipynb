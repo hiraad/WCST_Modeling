{
 "cells": [
  {
   "cell_type": "code",
   "execution_count": 1,
   "metadata": {},
   "outputs": [],
   "source": [
    "import pandas as pd\n",
    "import numpy as np\n",
    "import matplotlib.pyplot as plt\n",
    "import json\n",
    "import os"
   ]
  },
  {
   "cell_type": "code",
   "execution_count": 2,
   "metadata": {
    "scrolled": false
   },
   "outputs": [
    {
     "data": {
      "text/html": [
       "<div>\n",
       "<style scoped>\n",
       "    .dataframe tbody tr th:only-of-type {\n",
       "        vertical-align: middle;\n",
       "    }\n",
       "\n",
       "    .dataframe tbody tr th {\n",
       "        vertical-align: top;\n",
       "    }\n",
       "\n",
       "    .dataframe thead th {\n",
       "        text-align: right;\n",
       "    }\n",
       "</style>\n",
       "<table border=\"1\" class=\"dataframe\">\n",
       "  <thead>\n",
       "    <tr style=\"text-align: right;\">\n",
       "      <th></th>\n",
       "      <th>Reference #</th>\n",
       "      <th>SubNum</th>\n",
       "      <th>condOrder</th>\n",
       "      <th>targetOrder</th>\n",
       "      <th>rawLog</th>\n",
       "      <th>Age:</th>\n",
       "      <th>Nationality:</th>\n",
       "      <th>Sex:</th>\n",
       "      <th>Date</th>\n",
       "      <th>User</th>\n",
       "    </tr>\n",
       "  </thead>\n",
       "  <tbody>\n",
       "    <tr>\n",
       "      <th>0</th>\n",
       "      <td>1871343</td>\n",
       "      <td>4113</td>\n",
       "      <td>3,0,1,2,3</td>\n",
       "      <td>3,1,2</td>\n",
       "      <td>62,1,3:44,2,3:77,3,3:26,3,3:35,2,3:39,1,3:67,2...</td>\n",
       "      <td>31</td>\n",
       "      <td>Mexican</td>\n",
       "      <td>male</td>\n",
       "      <td>2014-12-05 22:26:57</td>\n",
       "      <td>189.153.101.116</td>\n",
       "    </tr>\n",
       "    <tr>\n",
       "      <th>1</th>\n",
       "      <td>1871209</td>\n",
       "      <td>6311</td>\n",
       "      <td>1,2,3,0,1</td>\n",
       "      <td>2,1,3</td>\n",
       "      <td>11,1,1:8,3,1:60,2,1:9,1,1:57,3,1:67,1,1:48,1,1...</td>\n",
       "      <td>25</td>\n",
       "      <td>Bosnia and Herzegovina</td>\n",
       "      <td>male</td>\n",
       "      <td>2014-12-05 21:58:13</td>\n",
       "      <td>46.36.160.194</td>\n",
       "    </tr>\n",
       "    <tr>\n",
       "      <th>2</th>\n",
       "      <td>1871202</td>\n",
       "      <td>5410</td>\n",
       "      <td>0,1,2,3,0</td>\n",
       "      <td>1,3,2</td>\n",
       "      <td>29,2,0:49,3,0:34,2,0:40,2,0:52,2,0:17,1,0:55,3...</td>\n",
       "      <td>43</td>\n",
       "      <td>Mexican</td>\n",
       "      <td>male</td>\n",
       "      <td>2014-12-05 21:56:04</td>\n",
       "      <td>187.142.106.38</td>\n",
       "    </tr>\n",
       "    <tr>\n",
       "      <th>3</th>\n",
       "      <td>1870894</td>\n",
       "      <td>7212</td>\n",
       "      <td>2,3,0,1,2</td>\n",
       "      <td>1,2,3</td>\n",
       "      <td>35,2,2:4,1,2:25,3,2:39,1,2:14,2,2:51,3,2:32,2,...</td>\n",
       "      <td>31</td>\n",
       "      <td>USA</td>\n",
       "      <td>male</td>\n",
       "      <td>2014-12-05 20:51:37</td>\n",
       "      <td>70.15.32.175</td>\n",
       "    </tr>\n",
       "    <tr>\n",
       "      <th>4</th>\n",
       "      <td>1870884</td>\n",
       "      <td>6721</td>\n",
       "      <td>2,1,0,3,2</td>\n",
       "      <td>2,1,3</td>\n",
       "      <td>7,1,2:65,1,2:57,3,2:39,2,2:28,1,2:79,3,2:9,1,2...</td>\n",
       "      <td>25</td>\n",
       "      <td>Spanish</td>\n",
       "      <td>male</td>\n",
       "      <td>2014-12-05 20:50:32</td>\n",
       "      <td>79.146.44.157</td>\n",
       "    </tr>\n",
       "  </tbody>\n",
       "</table>\n",
       "</div>"
      ],
      "text/plain": [
       "   Reference #  SubNum  condOrder targetOrder  \\\n",
       "0      1871343    4113  3,0,1,2,3       3,1,2   \n",
       "1      1871209    6311  1,2,3,0,1       2,1,3   \n",
       "2      1871202    5410  0,1,2,3,0       1,3,2   \n",
       "3      1870894    7212  2,3,0,1,2       1,2,3   \n",
       "4      1870884    6721  2,1,0,3,2       2,1,3   \n",
       "\n",
       "                                              rawLog  Age:  \\\n",
       "0  62,1,3:44,2,3:77,3,3:26,3,3:35,2,3:39,1,3:67,2...    31   \n",
       "1  11,1,1:8,3,1:60,2,1:9,1,1:57,3,1:67,1,1:48,1,1...    25   \n",
       "2  29,2,0:49,3,0:34,2,0:40,2,0:52,2,0:17,1,0:55,3...    43   \n",
       "3  35,2,2:4,1,2:25,3,2:39,1,2:14,2,2:51,3,2:32,2,...    31   \n",
       "4  7,1,2:65,1,2:57,3,2:39,2,2:28,1,2:79,3,2:9,1,2...    25   \n",
       "\n",
       "             Nationality:  Sex:                 Date             User  \n",
       "0                 Mexican  male  2014-12-05 22:26:57  189.153.101.116  \n",
       "1  Bosnia and Herzegovina  male  2014-12-05 21:58:13    46.36.160.194  \n",
       "2                 Mexican  male  2014-12-05 21:56:04   187.142.106.38  \n",
       "3                     USA  male  2014-12-05 20:51:37     70.15.32.175  \n",
       "4                 Spanish  male  2014-12-05 20:50:32    79.146.44.157  "
      ]
     },
     "execution_count": 2,
     "metadata": {},
     "output_type": "execute_result"
    }
   ],
   "source": [
    "experiment_results = os.path.join('..','data', 'input', '4a_FS.xlsx')\n",
    "result_df = pd.read_excel(experiment_results)\n",
    "result_df = result_df.drop(['Status','promptOrder','What was your strategy for sorting?','answer code'],axis=1)\n",
    "result_df.head()"
   ]
  },
  {
   "cell_type": "code",
   "execution_count": 3,
   "metadata": {},
   "outputs": [],
   "source": [
    "def make_path(p):\n",
    "    if not os.path.exists(p):\n",
    "        os.makedirs(p)"
   ]
  },
  {
   "cell_type": "code",
   "execution_count": 4,
   "metadata": {},
   "outputs": [],
   "source": [
    "with open('../data/input/conditions.txt', \"r\") as file:\n",
    "    conditions_json = json.load(file)\n",
    "\n",
    "card_codes_text = open('../data/input/cards_codes.txt', \"r\")\n",
    "card_codes = [[int(i) for i in line.strip().split(',')] for line in card_codes_text]\n",
    "pile_codes = [[1, 1, 1, 1], [2, 2, 2, 2], [3, 3, 3, 3]]"
   ]
  },
  {
   "cell_type": "code",
   "execution_count": 12,
   "metadata": {},
   "outputs": [
    {
     "name": "stdout",
     "output_type": "stream",
     "text": [
      "Subject Evaluation: [4, 4, 4, 4, 4, 0, 4, 2, 4, 0, 4, 2, 2, 3, 4, 0, 1, 2, 2, 1, 1, 4, 3, 2, 4, 4, 1, 4, 2, 2, 3, 3, 3, 3, 4, 3, 3, 2, 2, 4, 4, 4, 4, 4, 4, 4, 4]\n",
      "\n",
      "Subject Tries: [[56, 18, 5, 8], [12, 46, 32, 3], [2, 9, 17, 42], [12, 59, 12, 5], [12, 41, 10, 34], [], [10, 13, 39, 22], [6, 3], [14, 25, 13, 6], [], [30, 11, 49, 19], [2, 39], [0, 2], [34, 19, 1], [20, 7, 3, 65], [], [20], [95, 17], [37, 80], [4], [3], [1, 74, 2, 2], [70, 19, 4], [53, 27], [7, 6, 7, 76], [29, 9, 5, 48], [32], [12, 12, 11, 3], [19, 17], [7, 11], [3, 30, 6], [0, 2, 8], [0, 4, 5], [28, 85, 8], [4, 51, 4, 8], [5, 14, 10], [0, 72, 2], [6, 3], [20, 8], [13, 10, 11, 18], [5, 24, 8, 3], [0, 16, 5, 1], [10, 7, 8, 7], [1, 5, 13, 6], [7, 1, 36, 2], [1, 11, 1, 12], [2, 3, 16, 2]]\n",
      "\n",
      "Dead List): [[5, 155], [7, 126], [9, 155], [11, 94], [12, 133], [13, 71], [15, 155], [16, 125], [17, 23], [18, 18], [19, 141], [20, 142], [22, 32], [23, 55], [26, 113], [28, 99], [29, 117], [30, 86], [31, 115], [32, 116], [33, 4], [35, 96], [36, 51], [37, 126], [38, 107]]\n",
      "\n"
     ]
    }
   ],
   "source": [
    "subject_evaluation = []\n",
    "subject_tries = []\n",
    "dead_list = []\n",
    "\n",
    "out_columns = ['trial', 'card', 'demanded_criterion', 'selected_pile', 'feedback', 'total_streaks']\n",
    "out_path = os.path.join('..','data','output', 'original_formatted')\n",
    "make_path(out_path)\n",
    "rows = []\n",
    "for subject, row in result_df.iterrows():\n",
    "    tries_list = []\n",
    "    # print('--------------------------')\n",
    "    # print(f\"Subject {subject}:\\n\")\n",
    "    streak = 0\n",
    "    total_streaks = 0\n",
    "    streak_begin = None\n",
    "    streak_end = None\n",
    "    crit_index = 0\n",
    "    \n",
    "    log = row.rawLog.split(\":\")[0:-1]\n",
    "    # criterion_order = [int(i) for i in row.condOrder.split(\",\")]\n",
    "    # pile_order = [int(i) for i in row.targetOrder.split(\",\")]\n",
    "    \n",
    "    for i, trial in enumerate(log):\n",
    "        # Trial's log: First item shows the Card number, Second selected pile and Third, the demanded Criterion. \n",
    "        t_log = trial.split(\",\")\n",
    "      \n",
    "        card_number = int(t_log[0])\n",
    "        card = card_codes[card_number-1]\n",
    "        \n",
    "        selected_pile = int(t_log[1])\n",
    "        pile = pile_codes[selected_pile-1]\n",
    "        demanded_criterion = int(t_log[2])\n",
    "        \n",
    "        if card[demanded_criterion] == pile[demanded_criterion]:\n",
    "            result = True\n",
    "            streak += 1\n",
    "        else:\n",
    "            result = False\n",
    "            streak = 0\n",
    "        row = [i+1, card, demanded_criterion, selected_pile, result]      \n",
    "        \n",
    "        if streak == 10:\n",
    "            total_streaks += 1\n",
    "            streak_begin = i -9\n",
    "            row.append(total_streaks)\n",
    "            if total_streaks == 1:\n",
    "                tries = streak_begin\n",
    "            else:\n",
    "                tries = streak_begin - (streak_end+1)\n",
    "            tries_list.append(tries)\n",
    "            streak_end = i\n",
    "            # print(f\"Streak Began at {streak_begin}\")\n",
    "            # print(f\"Took {tries} Tries.\")\n",
    "            if total_streaks < 5:\n",
    "                post_criterion = int(log[i+1].split(\",\")[2])\n",
    "                # print(f\"Criterion changed from{demanded_criterion} to {post_criterion}\")\n",
    "            streak = 0\n",
    "        rows.append(row)\n",
    "            \n",
    "        if total_streaks <= 4:\n",
    "            if total_streaks < 5 and i == len(log)-1:\n",
    "                if streak_end is not None:\n",
    "                    tries = i - (streak_end+1)\n",
    "                else:\n",
    "                    tries = i\n",
    "                dead_list.append([subject,tries])\n",
    "    out_df = pd.DataFrame(rows, columns=out_columns)\n",
    "    out_df.to_csv(os.path.join(out_path,f'{subject+1}.csv'))\n",
    "\n",
    "    subject_code = f\"{subject+1}.{total_streaks}\" \n",
    "    subject_evaluation.append(total_streaks)\n",
    "    subject_tries.append(tries_list)\n",
    "print(f\"Subject Evaluation: {subject_evaluation}\\n\")\n",
    "print(f\"Subject Tries: {subject_tries}\\n\")\n",
    "print(f\"Dead List): {dead_list}\\n\")\n"
   ]
  },
  {
   "cell_type": "code",
   "execution_count": 6,
   "metadata": {},
   "outputs": [
    {
     "data": {
      "text/html": [
       "<div>\n",
       "<style scoped>\n",
       "    .dataframe tbody tr th:only-of-type {\n",
       "        vertical-align: middle;\n",
       "    }\n",
       "\n",
       "    .dataframe tbody tr th {\n",
       "        vertical-align: top;\n",
       "    }\n",
       "\n",
       "    .dataframe thead th {\n",
       "        text-align: right;\n",
       "    }\n",
       "</style>\n",
       "<table border=\"1\" class=\"dataframe\">\n",
       "  <thead>\n",
       "    <tr style=\"text-align: right;\">\n",
       "      <th></th>\n",
       "      <th>freq</th>\n",
       "    </tr>\n",
       "  </thead>\n",
       "  <tbody>\n",
       "    <tr>\n",
       "      <th>0</th>\n",
       "      <td>4</td>\n",
       "    </tr>\n",
       "    <tr>\n",
       "      <th>1</th>\n",
       "      <td>4</td>\n",
       "    </tr>\n",
       "    <tr>\n",
       "      <th>2</th>\n",
       "      <td>4</td>\n",
       "    </tr>\n",
       "    <tr>\n",
       "      <th>3</th>\n",
       "      <td>4</td>\n",
       "    </tr>\n",
       "    <tr>\n",
       "      <th>4</th>\n",
       "      <td>4</td>\n",
       "    </tr>\n",
       "  </tbody>\n",
       "</table>\n",
       "</div>"
      ],
      "text/plain": [
       "   freq\n",
       "0     4\n",
       "1     4\n",
       "2     4\n",
       "3     4\n",
       "4     4"
      ]
     },
     "execution_count": 6,
     "metadata": {},
     "output_type": "execute_result"
    }
   ],
   "source": [
    "df = pd.DataFrame({'freq': subject_evaluation})\n",
    "df.head()"
   ]
  },
  {
   "cell_type": "code",
   "execution_count": 10,
   "metadata": {
    "scrolled": false
   },
   "outputs": [
    {
     "data": {
      "image/png": "[encoded data removed]",
      "text/plain": [
       "<Figure size 504x504 with 1 Axes>"
      ]
     },
     "metadata": {
      "needs_background": "light"
     },
     "output_type": "display_data"
    }
   ],
   "source": [
    "ax = df.groupby('freq', as_index=False).size().plot(kind='bar',figsize=(7,7),\n",
    "                title=f\"Subjects based on their performance. (Total of {len(subject_tries)})\")\n",
    "ax.set_xlabel(\"Streaks Achieved\")\n",
    "ax.set_ylabel(\"Number of Subjects\")\n",
    "plt.show()"
   ]
  },
  {
   "cell_type": "markdown",
   "metadata": {},
   "source": [
    "# Calculating The Average RMSE "
   ]
  },
  {
   "cell_type": "code",
   "execution_count": 8,
   "metadata": {},
   "outputs": [],
   "source": [
    "def RMSE(p, t, print_result=False):\n",
    "    # Base Results:\n",
    "    base_results = {\n",
    "        'start_n': [12, 11, 12, 9],\n",
    "        'start_mean': [20.75, 12.91, 5.58, 27.33],\n",
    "        'start_std': [22.59, 9.87, 8.83, 30.49],\n",
    "        'switch_n': [16, 10, 14, 19, 13, 14, 14, 8],\n",
    "        'switch_mean': [11.13, 16, 15.29, 11.47, 11.69, 38.71, 6.86, 23.25],\n",
    "        'switch_std': [8.39, 13.13, 22.06, 13.38, 11.41, 28.18, 6.55, 26.44]\n",
    "    }\n",
    "    prediction = np.array(p)\n",
    "    target = np.array(base_results[t])\n",
    "    if print_result:\n",
    "        print(f\"Model Results: \\n{prediction} \\nBase Results: \\n{target}\\n\")\n",
    "\n",
    "    return np.sqrt(np.mean((prediction - target) ** 2))"
   ]
  },
  {
   "cell_type": "code",
   "execution_count": 9,
   "metadata": {},
   "outputs": [
    {
     "name": "stdout",
     "output_type": "stream",
     "text": [
      "Target Mean RMSE on 17.0: \n",
      "9.421015072697847\n",
      "Target STD RMSE on 16.0: \n",
      "7.722994480769748\n"
     ]
    }
   ],
   "source": [
    "mean = np.mean([11.13, 16, 15.29, 11.47, 11.69, 38.71, 6.86, 23.25])\n",
    "std = np.mean([8.39, 13.13, 22.06, 13.38, 11.41, 28.18, 6.55, 26.44])\n",
    "RMSE_mean = RMSE([mean,mean,mean,mean,mean,mean,mean,mean],'switch_mean')\n",
    "RMSE_std = RMSE([std,std,std,std,std,std,std,std],'switch_std')\n",
    "print(f\"Target Mean RMSE on {np.round(mean)}: \\n{RMSE_mean}\\nTarget STD RMSE on {np.round(std)}: \\n{RMSE_std}\")"
   ]
  }
 ],
 "metadata": {
  "kernelspec": {
   "display_name": "Python 3",
   "language": "python",
   "name": "python3"
  },
  "language_info": {
   "codemirror_mode": {
    "name": "ipython",
    "version": 3
   },
   "file_extension": ".py",
   "mimetype": "text/x-python",
   "name": "python",
   "nbconvert_exporter": "python",
   "pygments_lexer": "ipython3",
   "version": "3.8.3"
  }
 },
 "nbformat": 4,
 "nbformat_minor": 4
}
